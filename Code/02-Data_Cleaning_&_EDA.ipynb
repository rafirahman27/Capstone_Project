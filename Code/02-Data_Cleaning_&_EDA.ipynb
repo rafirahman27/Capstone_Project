{
 "cells": [
  {
   "cell_type": "code",
   "execution_count": 1,
   "id": "c1b28d2d",
   "metadata": {},
   "outputs": [],
   "source": [
    "import pandas as pd\n",
    "import numpy as np\n",
    "import matplotlib.pyplot as plt\n",
    "import seaborn as sns"
   ]
  },
  {
   "cell_type": "markdown",
   "id": "b71fca02",
   "metadata": {},
   "source": [
    "# Cleaning"
   ]
  },
  {
   "cell_type": "markdown",
   "id": "04f7647b",
   "metadata": {},
   "source": [
    "## Cazoo"
   ]
  },
  {
   "cell_type": "code",
   "execution_count": 2,
   "id": "d1c7b25a",
   "metadata": {},
   "outputs": [
    {
     "data": {
      "text/html": [
       "<div>\n",
       "<style scoped>\n",
       "    .dataframe tbody tr th:only-of-type {\n",
       "        vertical-align: middle;\n",
       "    }\n",
       "\n",
       "    .dataframe tbody tr th {\n",
       "        vertical-align: top;\n",
       "    }\n",
       "\n",
       "    .dataframe thead th {\n",
       "        text-align: right;\n",
       "    }\n",
       "</style>\n",
       "<table border=\"1\" class=\"dataframe\">\n",
       "  <thead>\n",
       "    <tr style=\"text-align: right;\">\n",
       "      <th></th>\n",
       "      <th>make</th>\n",
       "      <th>model</th>\n",
       "      <th>engine_size</th>\n",
       "      <th>trim</th>\n",
       "      <th>mileage</th>\n",
       "      <th>reg_year</th>\n",
       "      <th>transmission_type</th>\n",
       "      <th>fuel_type</th>\n",
       "      <th>price</th>\n",
       "    </tr>\n",
       "  </thead>\n",
       "  <tbody>\n",
       "    <tr>\n",
       "      <th>0</th>\n",
       "      <td>Volvo</td>\n",
       "      <td>V40</td>\n",
       "      <td>2.0</td>\n",
       "      <td>T2 Momentum</td>\n",
       "      <td>42,006 miles</td>\n",
       "      <td>2019 reg</td>\n",
       "      <td>Manual</td>\n",
       "      <td>Petrol</td>\n",
       "      <td>£12,150</td>\n",
       "    </tr>\n",
       "    <tr>\n",
       "      <th>1</th>\n",
       "      <td>Volvo</td>\n",
       "      <td>V40</td>\n",
       "      <td>2.0</td>\n",
       "      <td>T2 R-Design Edition</td>\n",
       "      <td>34,495 miles</td>\n",
       "      <td>2019 reg</td>\n",
       "      <td>Manual</td>\n",
       "      <td>Petrol</td>\n",
       "      <td>was £13,700£13,450</td>\n",
       "    </tr>\n",
       "    <tr>\n",
       "      <th>2</th>\n",
       "      <td>Volvo</td>\n",
       "      <td>V40</td>\n",
       "      <td>2.0</td>\n",
       "      <td>D2 R-Design Edition Auto</td>\n",
       "      <td>76,673 miles</td>\n",
       "      <td>2019 reg</td>\n",
       "      <td>Auto</td>\n",
       "      <td>Petrol</td>\n",
       "      <td>£12,900</td>\n",
       "    </tr>\n",
       "    <tr>\n",
       "      <th>3</th>\n",
       "      <td>Volvo</td>\n",
       "      <td>V40</td>\n",
       "      <td>1.5</td>\n",
       "      <td>T3 Momentum Nav Plus Auto</td>\n",
       "      <td>67,129 miles</td>\n",
       "      <td>2017 reg</td>\n",
       "      <td>Auto</td>\n",
       "      <td>Petrol</td>\n",
       "      <td>£11,650</td>\n",
       "    </tr>\n",
       "    <tr>\n",
       "      <th>4</th>\n",
       "      <td>Volvo</td>\n",
       "      <td>V40</td>\n",
       "      <td>2.0</td>\n",
       "      <td>T2 R-Design Nav</td>\n",
       "      <td>36,756 miles</td>\n",
       "      <td>2016 reg</td>\n",
       "      <td>Manual</td>\n",
       "      <td>Petrol</td>\n",
       "      <td>£12,250</td>\n",
       "    </tr>\n",
       "  </tbody>\n",
       "</table>\n",
       "</div>"
      ],
      "text/plain": [
       "    make model engine_size                       trim       mileage  reg_year  \\\n",
       "0  Volvo   V40         2.0                T2 Momentum  42,006 miles  2019 reg   \n",
       "1  Volvo   V40         2.0        T2 R-Design Edition  34,495 miles  2019 reg   \n",
       "2  Volvo   V40         2.0   D2 R-Design Edition Auto  76,673 miles  2019 reg   \n",
       "3  Volvo   V40         1.5  T3 Momentum Nav Plus Auto  67,129 miles  2017 reg   \n",
       "4  Volvo   V40         2.0            T2 R-Design Nav  36,756 miles  2016 reg   \n",
       "\n",
       "  transmission_type fuel_type               price  \n",
       "0            Manual    Petrol             £12,150  \n",
       "1            Manual    Petrol  was £13,700£13,450  \n",
       "2              Auto    Petrol             £12,900  \n",
       "3              Auto    Petrol             £11,650  \n",
       "4            Manual    Petrol             £12,250  "
      ]
     },
     "execution_count": 2,
     "metadata": {},
     "output_type": "execute_result"
    }
   ],
   "source": [
    "cazoo = pd.read_csv('../Data/cazoo_vehicles.csv')\n",
    "cazoo.head()"
   ]
  },
  {
   "cell_type": "code",
   "execution_count": null,
   "id": "a1f9d56a",
   "metadata": {},
   "outputs": [],
   "source": []
  }
 ],
 "metadata": {
  "kernelspec": {
   "display_name": "Python 3 (ipykernel)",
   "language": "python",
   "name": "python3"
  },
  "language_info": {
   "codemirror_mode": {
    "name": "ipython",
    "version": 3
   },
   "file_extension": ".py",
   "mimetype": "text/x-python",
   "name": "python",
   "nbconvert_exporter": "python",
   "pygments_lexer": "ipython3",
   "version": "3.11.4"
  }
 },
 "nbformat": 4,
 "nbformat_minor": 5
}

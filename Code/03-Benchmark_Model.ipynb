{
 "cells": [
  {
   "cell_type": "markdown",
   "id": "1712ac45",
   "metadata": {},
   "source": [
    "# Imports"
   ]
  },
  {
   "cell_type": "code",
   "execution_count": 1,
   "id": "7b4519e0",
   "metadata": {},
   "outputs": [],
   "source": [
    "import pandas as pd\n",
    "import numpy as np\n",
    "import matplotlib.pyplot as plt\n",
    "\n",
    "from sklearn.model_selection import train_test_split\n",
    "from sklearn.linear_model import LinearRegression\n",
    "from sklearn.feature_extraction.text import CountVectorizer\n",
    "from sklearn.tree import DecisionTreeRegressor\n",
    "from sklearn import metrics"
   ]
  },
  {
   "cell_type": "code",
   "execution_count": 2,
   "id": "1ac65a75",
   "metadata": {},
   "outputs": [
    {
     "data": {
      "text/html": [
       "<div>\n",
       "<style scoped>\n",
       "    .dataframe tbody tr th:only-of-type {\n",
       "        vertical-align: middle;\n",
       "    }\n",
       "\n",
       "    .dataframe tbody tr th {\n",
       "        vertical-align: top;\n",
       "    }\n",
       "\n",
       "    .dataframe thead th {\n",
       "        text-align: right;\n",
       "    }\n",
       "</style>\n",
       "<table border=\"1\" class=\"dataframe\">\n",
       "  <thead>\n",
       "    <tr style=\"text-align: right;\">\n",
       "      <th></th>\n",
       "      <th>make</th>\n",
       "      <th>model</th>\n",
       "      <th>engine_size</th>\n",
       "      <th>trim</th>\n",
       "      <th>num_doors</th>\n",
       "      <th>mileage</th>\n",
       "      <th>reg_year</th>\n",
       "      <th>transmission_type</th>\n",
       "      <th>fuel_type</th>\n",
       "      <th>price</th>\n",
       "      <th>is_electric</th>\n",
       "    </tr>\n",
       "  </thead>\n",
       "  <tbody>\n",
       "    <tr>\n",
       "      <th>0</th>\n",
       "      <td>BMW</td>\n",
       "      <td>1 Series</td>\n",
       "      <td>1.5</td>\n",
       "      <td>116d Sport</td>\n",
       "      <td>2</td>\n",
       "      <td>65221</td>\n",
       "      <td>2016</td>\n",
       "      <td>Manual</td>\n",
       "      <td>Diesel</td>\n",
       "      <td>9400</td>\n",
       "      <td>0</td>\n",
       "    </tr>\n",
       "    <tr>\n",
       "      <th>1</th>\n",
       "      <td>BMW</td>\n",
       "      <td>1 Series</td>\n",
       "      <td>2.0</td>\n",
       "      <td>120d M Sport</td>\n",
       "      <td>2</td>\n",
       "      <td>77873</td>\n",
       "      <td>2015</td>\n",
       "      <td>Manual</td>\n",
       "      <td>Diesel</td>\n",
       "      <td>9950</td>\n",
       "      <td>0</td>\n",
       "    </tr>\n",
       "    <tr>\n",
       "      <th>2</th>\n",
       "      <td>BMW</td>\n",
       "      <td>1 Series</td>\n",
       "      <td>1.5</td>\n",
       "      <td>118i Sport</td>\n",
       "      <td>2</td>\n",
       "      <td>57371</td>\n",
       "      <td>2016</td>\n",
       "      <td>Manual</td>\n",
       "      <td>Petrol</td>\n",
       "      <td>10050</td>\n",
       "      <td>0</td>\n",
       "    </tr>\n",
       "    <tr>\n",
       "      <th>3</th>\n",
       "      <td>BMW</td>\n",
       "      <td>1 Series</td>\n",
       "      <td>2.0</td>\n",
       "      <td>118d M Sport</td>\n",
       "      <td>2</td>\n",
       "      <td>71342</td>\n",
       "      <td>2016</td>\n",
       "      <td>Manual</td>\n",
       "      <td>Diesel</td>\n",
       "      <td>10450</td>\n",
       "      <td>0</td>\n",
       "    </tr>\n",
       "    <tr>\n",
       "      <th>4</th>\n",
       "      <td>BMW</td>\n",
       "      <td>1 Series</td>\n",
       "      <td>1.5</td>\n",
       "      <td>118i M Sport</td>\n",
       "      <td>2</td>\n",
       "      <td>77767</td>\n",
       "      <td>2017</td>\n",
       "      <td>Manual</td>\n",
       "      <td>Petrol</td>\n",
       "      <td>11000</td>\n",
       "      <td>0</td>\n",
       "    </tr>\n",
       "  </tbody>\n",
       "</table>\n",
       "</div>"
      ],
      "text/plain": [
       "  make     model  engine_size          trim  num_doors  mileage  reg_year  \\\n",
       "0  BMW  1 Series          1.5    116d Sport          2    65221      2016   \n",
       "1  BMW  1 Series          2.0  120d M Sport          2    77873      2015   \n",
       "2  BMW  1 Series          1.5    118i Sport          2    57371      2016   \n",
       "3  BMW  1 Series          2.0  118d M Sport          2    71342      2016   \n",
       "4  BMW  1 Series          1.5  118i M Sport          2    77767      2017   \n",
       "\n",
       "  transmission_type fuel_type  price  is_electric  \n",
       "0            Manual    Diesel   9400            0  \n",
       "1            Manual    Diesel   9950            0  \n",
       "2            Manual    Petrol  10050            0  \n",
       "3            Manual    Diesel  10450            0  \n",
       "4            Manual    Petrol  11000            0  "
      ]
     },
     "execution_count": 2,
     "metadata": {},
     "output_type": "execute_result"
    }
   ],
   "source": [
    "df = pd.read_csv('../Data/merged_vehicle_data.csv')\n",
    "df.head()"
   ]
  },
  {
   "cell_type": "code",
   "execution_count": 3,
   "id": "66425a23",
   "metadata": {},
   "outputs": [],
   "source": [
    "cvec = CountVectorizer()\n",
    "model1text = df['make'] + ' ' + df['model'] + ' ' + df['trim']\n",
    "bench = cvec.fit_transform(model1text)"
   ]
  },
  {
   "cell_type": "code",
   "execution_count": 4,
   "id": "2cb074fe",
   "metadata": {},
   "outputs": [],
   "source": [
    "model1 = pd.DataFrame(bench.todense(), columns=cvec.get_feature_names_out())\n",
    "model1[['engine_size', 'num_doors', 'mileage', 'reg_year', 'transmission_type','fuel_type',\n",
    "        'is_electric', 'price']] = df[['engine_size', 'num_doors', 'mileage', 'reg_year',\n",
    "                            'transmission_type','fuel_type','is_electric', 'price']].copy()\n"
   ]
  },
  {
   "cell_type": "code",
   "execution_count": 5,
   "id": "b02a27b9",
   "metadata": {},
   "outputs": [],
   "source": [
    "model1 = pd.get_dummies(model1, columns=['transmission_type', 'fuel_type'], drop_first=True)"
   ]
  },
  {
   "cell_type": "code",
   "execution_count": 6,
   "id": "dc948b18",
   "metadata": {},
   "outputs": [],
   "source": [
    "X = model1.drop(columns=['price'])\n",
    "y = model1['price']\n",
    "\n",
    "X_train, X_test, y_train, y_test = train_test_split(X, y, random_state=42)"
   ]
  },
  {
   "cell_type": "markdown",
   "id": "4ec2f24d",
   "metadata": {},
   "source": [
    "# Regression Model"
   ]
  },
  {
   "cell_type": "code",
   "execution_count": 7,
   "id": "38a83f5a",
   "metadata": {},
   "outputs": [
    {
     "data": {
      "text/plain": [
       "(0.9523251228971503, -520534691.8276298)"
      ]
     },
     "execution_count": 7,
     "metadata": {},
     "output_type": "execute_result"
    }
   ],
   "source": [
    "lr = LinearRegression()\n",
    "lr.fit(X_train, y_train)\n",
    "lr.score(X_train, y_train), lr.score(X_test, y_test)"
   ]
  },
  {
   "cell_type": "code",
   "execution_count": 10,
   "id": "3ea1abbb",
   "metadata": {},
   "outputs": [
    {
     "data": {
      "text/plain": [
       "5570858.617206044"
      ]
     },
     "execution_count": 10,
     "metadata": {},
     "output_type": "execute_result"
    }
   ],
   "source": [
    "lr_pred = lr.predict(X_test)\n",
    "metrics.mean_absolute_error(y_test, lr_pred)"
   ]
  },
  {
   "cell_type": "markdown",
   "id": "451df4b9",
   "metadata": {},
   "source": [
    "# Tree Model"
   ]
  },
  {
   "cell_type": "code",
   "execution_count": 8,
   "id": "cca1c082",
   "metadata": {},
   "outputs": [
    {
     "data": {
      "text/plain": [
       "(0.9999995720026178, 0.9829642454680353)"
      ]
     },
     "execution_count": 8,
     "metadata": {},
     "output_type": "execute_result"
    }
   ],
   "source": [
    "tree = DecisionTreeRegressor()\n",
    "tree.fit(X_train, y_train)\n",
    "tree.score(X_train, y_train), tree.score(X_test, y_test)"
   ]
  },
  {
   "cell_type": "code",
   "execution_count": 9,
   "id": "63251e41",
   "metadata": {},
   "outputs": [
    {
     "data": {
      "text/plain": [
       "211.03307406345988"
      ]
     },
     "execution_count": 9,
     "metadata": {},
     "output_type": "execute_result"
    }
   ],
   "source": [
    "tree_pred = tree.predict(X_test)\n",
    "metrics.mean_absolute_error(y_test, tree_pred)"
   ]
  }
 ],
 "metadata": {
  "kernelspec": {
   "display_name": "Python 3 (ipykernel)",
   "language": "python",
   "name": "python3"
  },
  "language_info": {
   "codemirror_mode": {
    "name": "ipython",
    "version": 3
   },
   "file_extension": ".py",
   "mimetype": "text/x-python",
   "name": "python",
   "nbconvert_exporter": "python",
   "pygments_lexer": "ipython3",
   "version": "3.11.4"
  }
 },
 "nbformat": 4,
 "nbformat_minor": 5
}
